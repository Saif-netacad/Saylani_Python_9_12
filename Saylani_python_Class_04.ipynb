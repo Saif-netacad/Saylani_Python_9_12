{
 "cells": [
  {
   "cell_type": "markdown",
   "id": "16a15f41-b9d5-47a3-9d6b-9b7d00d150fb",
   "metadata": {},
   "source": [
    "# IF AND NESTED IFs"
   ]
  },
  {
   "cell_type": "code",
   "execution_count": 2,
   "id": "3fb67830-b384-40d1-80c8-da5a1a620a41",
   "metadata": {},
   "outputs": [
    {
     "name": "stdout",
     "output_type": "stream",
     "text": [
      "can processed\n"
     ]
    }
   ],
   "source": [
    "matric_pas = True\n",
    "#Conditonal Statements\n",
    "if matric_pas:\n",
    "    print(f\"can processed\")\n",
    "else:\n",
    "    print(\"Matric pass is minimum requirement\")"
   ]
  },
  {
   "cell_type": "code",
   "execution_count": null,
   "id": "62dad0d1-7249-445f-9beb-65e90ee9f2e4",
   "metadata": {},
   "outputs": [],
   "source": [
    "matric_pas = True\n",
    "#Conditonal Statements\n",
    "if matric_pas:\n",
    "    print(f\"can processed\")\n",
    "else:\n",
    "    print(\"Matric pass is minimum requirement\")"
   ]
  },
  {
   "cell_type": "markdown",
   "id": "81a64f4c-4517-4839-a68a-884af6a99cd3",
   "metadata": {},
   "source": [
    "# NESTED IF ELSE"
   ]
  },
  {
   "cell_type": "code",
   "execution_count": 4,
   "id": "939a0b66-0aaf-475f-9c0e-9a7de1c6a0f4",
   "metadata": {},
   "outputs": [
    {
     "name": "stdout",
     "output_type": "stream",
     "text": [
      "can processed\n"
     ]
    },
    {
     "name": "stdin",
     "output_type": "stream",
     "text": [
      "status of test fail/pass: fail\n"
     ]
    },
    {
     "name": "stdout",
     "output_type": "stream",
     "text": [
      "you are in waiting list\n"
     ]
    }
   ],
   "source": [
    "matric_pas = True\n",
    "#Conditonal Statements\n",
    "if matric_pas:\n",
    "    print(f\"can processed\")\n",
    "    test_cleared = input(\"status of test fail/pass:\")\n",
    "    if test_cleared==\"pass\":\n",
    "        print(f\"can take part in class\")\n",
    "    else:\n",
    "        print(f\"you are in waiting list\")\n",
    "else:\n",
    "    print(\"Matric pass is minimum requirement\")"
   ]
  },
  {
   "cell_type": "code",
   "execution_count": 28,
   "id": "ed432095-3811-4361-949a-8b21e3c4c33e",
   "metadata": {},
   "outputs": [
    {
     "name": "stdin",
     "output_type": "stream",
     "text": [
      "what is your education status: False\n"
     ]
    },
    {
     "name": "stdout",
     "output_type": "stream",
     "text": [
      "youre on waiting list\n"
     ]
    }
   ],
   "source": [
    "matric_pas = bool(input(\"what is your education status(True/False):\"))\n",
    "\n",
    "test_cleared = False\n",
    "\n",
    "'''Conditonal Statements\n",
    " we are validating  saylani students\n",
    " creteria is''' \n",
    "\n",
    "if (matric_pas and test_cleared):\n",
    "    print(f\"can take part in class\")\n",
    "elif (matric_pas):\n",
    "    print(\"youre on waiting list\")\n",
    "else:\n",
    "     print(\"you can not enrolled in this clss\")\n"
   ]
  },
  {
   "cell_type": "markdown",
   "id": "e60b3956-4df0-4f7f-8d4f-7ba2d7d86864",
   "metadata": {},
   "source": [
    "# LIST"
   ]
  },
  {
   "cell_type": "code",
   "execution_count": 29,
   "id": "43ee5c5b-bbfd-469c-b5b3-6db4e3a07251",
   "metadata": {},
   "outputs": [],
   "source": [
    "cities = [\"Atlanta\", \"Baltimore\", \"Chicago\",\n",
    "\"Denver\", \"Los Angeles\", \"Seattle\"]"
   ]
  },
  {
   "cell_type": "code",
   "execution_count": 30,
   "id": "68fb63d2-af4f-4c2f-a462-8291548c20e0",
   "metadata": {},
   "outputs": [
    {
     "data": {
      "text/plain": [
       "'Chicago'"
      ]
     },
     "execution_count": 30,
     "metadata": {},
     "output_type": "execute_result"
    }
   ],
   "source": [
    "cities[2]"
   ]
  },
  {
   "cell_type": "code",
   "execution_count": 31,
   "id": "77971ae0-8da7-46fc-bc8d-a9e99e2a0eca",
   "metadata": {},
   "outputs": [
    {
     "data": {
      "text/plain": [
       "'Los Angeles'"
      ]
     },
     "execution_count": 31,
     "metadata": {},
     "output_type": "execute_result"
    }
   ],
   "source": [
    "cities[-2]"
   ]
  },
  {
   "cell_type": "code",
   "execution_count": 33,
   "id": "44f42e9f-2e87-4c09-9615-7dd80889bd19",
   "metadata": {},
   "outputs": [],
   "source": [
    "cities.append(\"karachi\")"
   ]
  },
  {
   "cell_type": "code",
   "execution_count": 34,
   "id": "f1fb26d8-cd5e-4561-8564-713614c2d84e",
   "metadata": {},
   "outputs": [
    {
     "data": {
      "text/plain": [
       "['Atlanta',\n",
       " 'Baltimore',\n",
       " 'Chicago',\n",
       " 'Denver',\n",
       " 'Los Angeles',\n",
       " 'Seattle',\n",
       " 'karachi']"
      ]
     },
     "execution_count": 34,
     "metadata": {},
     "output_type": "execute_result"
    }
   ],
   "source": [
    "cities"
   ]
  },
  {
   "cell_type": "markdown",
   "id": "4b23fe2b-500d-40d1-9fa3-ee77b855c8e5",
   "metadata": {},
   "source": [
    "### Taking Slices from List"
   ]
  },
  {
   "cell_type": "code",
   "execution_count": 36,
   "id": "10991881-c230-466f-aa27-cbc33034050e",
   "metadata": {},
   "outputs": [
    {
     "data": {
      "text/plain": [
       "['Atlanta', 'Baltimore', 'Chicago']"
      ]
     },
     "execution_count": 36,
     "metadata": {},
     "output_type": "execute_result"
    }
   ],
   "source": [
    "cities[:3] #last index is excluded"
   ]
  },
  {
   "cell_type": "code",
   "execution_count": 38,
   "id": "22536c63-6e3e-42ca-9031-679fd7d18477",
   "metadata": {},
   "outputs": [
    {
     "data": {
      "text/plain": [
       "['Denver', 'Los Angeles']"
      ]
     },
     "execution_count": 38,
     "metadata": {},
     "output_type": "execute_result"
    }
   ],
   "source": [
    "cities[3:5] # first include last xclude"
   ]
  },
  {
   "cell_type": "code",
   "execution_count": 44,
   "id": "4991a1c9-fae0-4f48-b3cf-d78c215ccc8e",
   "metadata": {},
   "outputs": [
    {
     "data": {
      "text/plain": [
       "['Denver', 'Los Angeles']"
      ]
     },
     "execution_count": 44,
     "metadata": {},
     "output_type": "execute_result"
    }
   ],
   "source": [
    "cities[-4:-2]"
   ]
  },
  {
   "cell_type": "code",
   "execution_count": 48,
   "id": "ad08abc3-68a1-4a40-a5d9-cbe3ec916da8",
   "metadata": {},
   "outputs": [
    {
     "data": {
      "text/plain": [
       "['Atlanta', 'Chicago', 'Los Angeles', 'karachi']"
      ]
     },
     "execution_count": 48,
     "metadata": {},
     "output_type": "execute_result"
    }
   ],
   "source": [
    "cities[::2]"
   ]
  },
  {
   "cell_type": "code",
   "execution_count": 49,
   "id": "8c1f5ba3-5426-4fc7-b906-58723bd565a5",
   "metadata": {},
   "outputs": [
    {
     "data": {
      "text/plain": [
       "['karachi',\n",
       " 'Seattle',\n",
       " 'Los Angeles',\n",
       " 'Denver',\n",
       " 'Chicago',\n",
       " 'Baltimore',\n",
       " 'Atlanta']"
      ]
     },
     "execution_count": 49,
     "metadata": {},
     "output_type": "execute_result"
    }
   ],
   "source": [
    "### REVESRE ORDER\n",
    "cities[::-1]"
   ]
  },
  {
   "cell_type": "markdown",
   "id": "be409012-e00e-40d2-9869-d57c5a8caf07",
   "metadata": {},
   "source": [
    "#### Adding and inserting in List"
   ]
  },
  {
   "cell_type": "code",
   "execution_count": 50,
   "id": "d6b8ba5d-f953-4784-b4fa-635a5fbcb7dc",
   "metadata": {},
   "outputs": [
    {
     "data": {
      "text/plain": [
       "['Atlanta',\n",
       " 'Baltimore',\n",
       " 'Chicago',\n",
       " 'Denver',\n",
       " 'Los Angeles',\n",
       " 'Seattle',\n",
       " 'karachi']"
      ]
     },
     "execution_count": 50,
     "metadata": {},
     "output_type": "execute_result"
    }
   ],
   "source": [
    "cities"
   ]
  },
  {
   "cell_type": "code",
   "execution_count": 52,
   "id": "b5b3477c-3783-4710-a1f1-a136c3522294",
   "metadata": {},
   "outputs": [
    {
     "data": {
      "text/plain": [
       "['__add__',\n",
       " '__class__',\n",
       " '__class_getitem__',\n",
       " '__contains__',\n",
       " '__delattr__',\n",
       " '__delitem__',\n",
       " '__dir__',\n",
       " '__doc__',\n",
       " '__eq__',\n",
       " '__format__',\n",
       " '__ge__',\n",
       " '__getattribute__',\n",
       " '__getitem__',\n",
       " '__getstate__',\n",
       " '__gt__',\n",
       " '__hash__',\n",
       " '__iadd__',\n",
       " '__imul__',\n",
       " '__init__',\n",
       " '__init_subclass__',\n",
       " '__iter__',\n",
       " '__le__',\n",
       " '__len__',\n",
       " '__lt__',\n",
       " '__mul__',\n",
       " '__ne__',\n",
       " '__new__',\n",
       " '__reduce__',\n",
       " '__reduce_ex__',\n",
       " '__repr__',\n",
       " '__reversed__',\n",
       " '__rmul__',\n",
       " '__setattr__',\n",
       " '__setitem__',\n",
       " '__sizeof__',\n",
       " '__str__',\n",
       " '__subclasshook__',\n",
       " 'append',\n",
       " 'clear',\n",
       " 'copy',\n",
       " 'count',\n",
       " 'extend',\n",
       " 'index',\n",
       " 'insert',\n",
       " 'pop',\n",
       " 'remove',\n",
       " 'reverse',\n",
       " 'sort']"
      ]
     },
     "execution_count": 52,
     "metadata": {},
     "output_type": "execute_result"
    }
   ],
   "source": [
    "dir(cities)"
   ]
  },
  {
   "cell_type": "code",
   "execution_count": 53,
   "id": "f0c3e59b-67f5-4190-8fa3-c5c58d799489",
   "metadata": {},
   "outputs": [
    {
     "data": {
      "text/plain": [
       "list"
      ]
     },
     "execution_count": 53,
     "metadata": {},
     "output_type": "execute_result"
    }
   ],
   "source": [
    "type(cities)"
   ]
  },
  {
   "cell_type": "code",
   "execution_count": 55,
   "id": "d5e448c8-d9d1-4958-8497-c498b8785853",
   "metadata": {},
   "outputs": [],
   "source": [
    "cities.insert(0, \"lahore\")"
   ]
  },
  {
   "cell_type": "code",
   "execution_count": 56,
   "id": "12d52cab-e3ee-49cf-b0e1-818704e50422",
   "metadata": {},
   "outputs": [
    {
     "data": {
      "text/plain": [
       "['lahore',\n",
       " 'Atlanta',\n",
       " 'Baltimore',\n",
       " 'Chicago',\n",
       " 'Denver',\n",
       " 'Los Angeles',\n",
       " 'Seattle',\n",
       " 'karachi']"
      ]
     },
     "execution_count": 56,
     "metadata": {},
     "output_type": "execute_result"
    }
   ],
   "source": [
    "cities"
   ]
  },
  {
   "cell_type": "code",
   "execution_count": 57,
   "id": "a8889519-0ff4-400c-90ee-0b8384b17312",
   "metadata": {},
   "outputs": [
    {
     "data": {
      "text/plain": [
       "['lahore',\n",
       " 'Atlanta',\n",
       " 'Baltimore',\n",
       " 'Chicago',\n",
       " 'Denver',\n",
       " 'Los Angeles',\n",
       " 'Seattle',\n",
       " 'karachi',\n",
       " 'ISB']"
      ]
     },
     "execution_count": 57,
     "metadata": {},
     "output_type": "execute_result"
    }
   ],
   "source": [
    "cities + [\"ISB\"]"
   ]
  },
  {
   "cell_type": "code",
   "execution_count": 58,
   "id": "397c22e0-1504-45c4-b7f5-e31ffcbd9185",
   "metadata": {},
   "outputs": [
    {
     "data": {
      "text/plain": [
       "['lahore',\n",
       " 'Atlanta',\n",
       " 'Baltimore',\n",
       " 'Chicago',\n",
       " 'Denver',\n",
       " 'Los Angeles',\n",
       " 'Seattle',\n",
       " 'karachi']"
      ]
     },
     "execution_count": 58,
     "metadata": {},
     "output_type": "execute_result"
    }
   ],
   "source": [
    "cities"
   ]
  },
  {
   "cell_type": "code",
   "execution_count": 59,
   "id": "aebc12cf-dd06-42aa-b395-ea029be0e6c2",
   "metadata": {},
   "outputs": [],
   "source": [
    "cities = cities + [\"ISB\"]"
   ]
  },
  {
   "cell_type": "code",
   "execution_count": 60,
   "id": "05dc66e9-7d6b-4367-ae63-c5b1fd2199a2",
   "metadata": {},
   "outputs": [
    {
     "data": {
      "text/plain": [
       "['lahore',\n",
       " 'Atlanta',\n",
       " 'Baltimore',\n",
       " 'Chicago',\n",
       " 'Denver',\n",
       " 'Los Angeles',\n",
       " 'Seattle',\n",
       " 'karachi',\n",
       " 'ISB']"
      ]
     },
     "execution_count": 60,
     "metadata": {},
     "output_type": "execute_result"
    }
   ],
   "source": [
    "cities"
   ]
  },
  {
   "cell_type": "markdown",
   "id": "a03250e3-dd0b-4266-bceb-b25a6e60802d",
   "metadata": {},
   "source": [
    "#### LIST: deleting and removing elements in lists"
   ]
  },
  {
   "cell_type": "code",
   "execution_count": 67,
   "id": "86b3c2f7-5675-4cae-9b75-e48da37f7f63",
   "metadata": {},
   "outputs": [],
   "source": [
    "#METHODS-1\n",
    "cities.remove(\"lahore\")"
   ]
  },
  {
   "cell_type": "code",
   "execution_count": 65,
   "id": "40b318d4-6935-407b-a0c9-257025c457f9",
   "metadata": {},
   "outputs": [
    {
     "data": {
      "text/plain": [
       "['lahore',\n",
       " 'Atlanta',\n",
       " 'Baltimore',\n",
       " 'Chicago',\n",
       " 'Denver',\n",
       " 'Los Angeles',\n",
       " 'Seattle',\n",
       " 'ISB']"
      ]
     },
     "execution_count": 65,
     "metadata": {},
     "output_type": "execute_result"
    }
   ],
   "source": [
    "cities"
   ]
  },
  {
   "cell_type": "code",
   "execution_count": 68,
   "id": "5b486b61-6820-4ba5-93d6-37b23967d8af",
   "metadata": {},
   "outputs": [],
   "source": [
    "del(cities[0])"
   ]
  },
  {
   "cell_type": "code",
   "execution_count": 69,
   "id": "2d53e696-7836-49c8-b87a-d9c05e3d50b4",
   "metadata": {},
   "outputs": [
    {
     "data": {
      "text/plain": [
       "['Baltimore', 'Chicago', 'Denver', 'Los Angeles', 'Seattle', 'ISB']"
      ]
     },
     "execution_count": 69,
     "metadata": {},
     "output_type": "execute_result"
    }
   ],
   "source": [
    "cities"
   ]
  },
  {
   "cell_type": "markdown",
   "id": "f2cf0417-7370-49cb-87c9-a79db3cf5d7d",
   "metadata": {},
   "source": [
    "#### Poping Values from list"
   ]
  },
  {
   "cell_type": "code",
   "execution_count": 70,
   "id": "bca1e741-d1e9-4e08-b725-8c5f4330b938",
   "metadata": {},
   "outputs": [],
   "source": [
    "holding_citie=cities.pop() #valuess get remove from list and store in new list"
   ]
  },
  {
   "cell_type": "code",
   "execution_count": 74,
   "id": "ad3a2a96-c543-4bfc-876f-a5ee2500403c",
   "metadata": {},
   "outputs": [
    {
     "data": {
      "text/plain": [
       "'ISB'"
      ]
     },
     "execution_count": 74,
     "metadata": {},
     "output_type": "execute_result"
    }
   ],
   "source": [
    "holding_citie"
   ]
  },
  {
   "cell_type": "code",
   "execution_count": 75,
   "id": "3f84fc5d-b4ca-4c90-83c0-dfe7f46ecf3c",
   "metadata": {},
   "outputs": [
    {
     "data": {
      "text/plain": [
       "'Denver'"
      ]
     },
     "execution_count": 75,
     "metadata": {},
     "output_type": "execute_result"
    }
   ],
   "source": [
    "cities.pop(2)"
   ]
  },
  {
   "cell_type": "code",
   "execution_count": 76,
   "id": "026eb372-72e8-4475-9ca3-c74d57a85ed9",
   "metadata": {},
   "outputs": [
    {
     "data": {
      "text/plain": [
       "['Baltimore', 'Chicago', 'Los Angeles', 'Seattle']"
      ]
     },
     "execution_count": 76,
     "metadata": {},
     "output_type": "execute_result"
    }
   ],
   "source": [
    "cities"
   ]
  },
  {
   "cell_type": "markdown",
   "id": "1beaec0d-df89-47c7-847a-99504d0c23bf",
   "metadata": {},
   "source": [
    "#### Extra methods"
   ]
  },
  {
   "cell_type": "code",
   "execution_count": 78,
   "id": "c03ab0c1-e4aa-4b15-9ca8-b78d54fab454",
   "metadata": {},
   "outputs": [],
   "source": [
    "tasks = [\"prayer\", \"exercise\", \"breakfast\", \"studying\"]\n"
   ]
  },
  {
   "cell_type": "code",
   "execution_count": 79,
   "id": "a3c4cd9e-4e51-46a9-b43d-9781637c913b",
   "metadata": {},
   "outputs": [],
   "source": [
    "task_done= []"
   ]
  },
  {
   "cell_type": "code",
   "execution_count": 85,
   "id": "7506e9b7-65dc-425d-8694-439a27008d28",
   "metadata": {},
   "outputs": [],
   "source": [
    "task_done=(tasks.pop(1))"
   ]
  },
  {
   "cell_type": "code",
   "execution_count": 86,
   "id": "13220550-6787-49d6-b9e8-b10dc91bed55",
   "metadata": {},
   "outputs": [
    {
     "data": {
      "text/plain": [
       "'breakfast'"
      ]
     },
     "execution_count": 86,
     "metadata": {},
     "output_type": "execute_result"
    }
   ],
   "source": [
    "task_done"
   ]
  },
  {
   "cell_type": "markdown",
   "id": "d9b72f55-a2e8-4421-b074-18275c182126",
   "metadata": {},
   "source": [
    "#### Concept of Deep copy and Shallow Copy\n",
    "- _SHALLOW_ refressing copy\n",
    "- _DEEP COPY_ make new copy"
   ]
  },
  {
   "cell_type": "code",
   "execution_count": null,
   "id": "a183fd3e-a4f1-46b3-99bf-254a7b92f500",
   "metadata": {},
   "outputs": [],
   "source": []
  }
 ],
 "metadata": {
  "kernelspec": {
   "display_name": "Python 3 (ipykernel)",
   "language": "python",
   "name": "python3"
  },
  "language_info": {
   "codemirror_mode": {
    "name": "ipython",
    "version": 3
   },
   "file_extension": ".py",
   "mimetype": "text/x-python",
   "name": "python",
   "nbconvert_exporter": "python",
   "pygments_lexer": "ipython3",
   "version": "3.11.9"
  }
 },
 "nbformat": 4,
 "nbformat_minor": 5
}
