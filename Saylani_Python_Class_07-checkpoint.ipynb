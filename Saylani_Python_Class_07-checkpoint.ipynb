{
 "cells": [
  {
   "cell_type": "markdown",
   "id": "dcba32a7-006b-4573-8695-9f878ce2e63e",
   "metadata": {},
   "source": [
    "# Dictionary\n",
    " <b>Used to store data in keys<b>"
   ]
  },
  {
   "cell_type": "code",
   "execution_count": 7,
   "id": "6ee1ac45-0e73-4327-9397-cbe8eea8bffc",
   "metadata": {},
   "outputs": [],
   "source": [
    "info = {\"name\":\"saif\", \n",
    "        \"age\" : 25 ,\n",
    "        \"subject\" : [\"python\" ,\"javaScreipt\" , \"c\"],\n",
    "       \"learning\" : \"Python\"}"
   ]
  },
  {
   "cell_type": "code",
   "execution_count": 8,
   "id": "3670df5a-7d4f-4e84-b27e-35abd2f92462",
   "metadata": {},
   "outputs": [
    {
     "data": {
      "text/plain": [
       "{'name': 'saif',\n",
       " 'age': 25,\n",
       " 'subject': ['python', 'javaScreipt', 'c'],\n",
       " 'learning': 'Python'}"
      ]
     },
     "execution_count": 8,
     "metadata": {},
     "output_type": "execute_result"
    }
   ],
   "source": [
    "info"
   ]
  },
  {
   "cell_type": "code",
   "execution_count": 9,
   "id": "fd73db40-008d-4643-821b-1225818f3ea3",
   "metadata": {},
   "outputs": [],
   "source": [
    "info[\"learning\"]= [\"Python\" , \"JavaScript\"]"
   ]
  },
  {
   "cell_type": "code",
   "execution_count": 10,
   "id": "a6738099-2e8b-40ff-8da1-175b0a973cd0",
   "metadata": {},
   "outputs": [
    {
     "data": {
      "text/plain": [
       "{'name': 'saif',\n",
       " 'age': 25,\n",
       " 'subject': ['python', 'javaScreipt', 'c'],\n",
       " 'learning': ['Python', 'JavaScript']}"
      ]
     },
     "execution_count": 10,
     "metadata": {},
     "output_type": "execute_result"
    }
   ],
   "source": [
    "info"
   ]
  },
  {
   "cell_type": "code",
   "execution_count": 11,
   "id": "973379f2-d3a8-4f04-a099-7eb509733c72",
   "metadata": {},
   "outputs": [
    {
     "data": {
      "text/plain": [
       "['python', 'javaScreipt', 'c']"
      ]
     },
     "execution_count": 11,
     "metadata": {},
     "output_type": "execute_result"
    }
   ],
   "source": [
    "info[\"subject\"]"
   ]
  },
  {
   "cell_type": "code",
   "execution_count": 20,
   "id": "53f7d629-48df-410a-9831-bbe98b553514",
   "metadata": {},
   "outputs": [
    {
     "data": {
      "text/plain": [
       "dict"
      ]
     },
     "execution_count": 20,
     "metadata": {},
     "output_type": "execute_result"
    }
   ],
   "source": [
    "# Types\n",
    "type(info)"
   ]
  },
  {
   "cell_type": "code",
   "execution_count": 21,
   "id": "8739453b-fea0-4ae6-a01c-aa9c38c922e7",
   "metadata": {},
   "outputs": [
    {
     "data": {
      "text/plain": [
       "dict_values(['saif', 25, ['python', 'javaScreipt', 'c'], ['Python', 'JavaScript']])"
      ]
     },
     "execution_count": 21,
     "metadata": {},
     "output_type": "execute_result"
    }
   ],
   "source": [
    "# get values of dictionary\n",
    "info.values()"
   ]
  },
  {
   "cell_type": "code",
   "execution_count": 22,
   "id": "de200ebc-ce19-4377-8ed0-4bb598806c46",
   "metadata": {},
   "outputs": [
    {
     "data": {
      "text/plain": [
       "dict_keys(['name', 'age', 'subject', 'learning'])"
      ]
     },
     "execution_count": 22,
     "metadata": {},
     "output_type": "execute_result"
    }
   ],
   "source": [
    "# get keys\n",
    "info.keys()"
   ]
  },
  {
   "cell_type": "code",
   "execution_count": 23,
   "id": "a660a58a-48af-4d72-a351-5d64de3b2367",
   "metadata": {},
   "outputs": [],
   "source": [
    "# updating values\n",
    "info[\"name\"] = \"Saif Ullah\""
   ]
  },
  {
   "cell_type": "code",
   "execution_count": 24,
   "id": "48df1e56-c5be-4ba1-b8d1-0a2430dccbdb",
   "metadata": {},
   "outputs": [
    {
     "data": {
      "text/plain": [
       "{'name': 'Saif Ullah',\n",
       " 'age': 25,\n",
       " 'subject': ['python', 'javaScreipt', 'c'],\n",
       " 'learning': ['Python', 'JavaScript']}"
      ]
     },
     "execution_count": 24,
     "metadata": {},
     "output_type": "execute_result"
    }
   ],
   "source": [
    "info"
   ]
  },
  {
   "cell_type": "code",
   "execution_count": 26,
   "id": "e59eb870-6179-4b7f-b1cf-57c75951e6fd",
   "metadata": {},
   "outputs": [],
   "source": [
    "# Deleting Values\n",
    "del info[\"learning\"]"
   ]
  },
  {
   "cell_type": "code",
   "execution_count": 27,
   "id": "54c64bbf-2554-419a-9882-cf462dca891d",
   "metadata": {},
   "outputs": [
    {
     "data": {
      "text/plain": [
       "{'name': 'Saif Ullah', 'age': 25, 'subject': ['python', 'javaScreipt', 'c']}"
      ]
     },
     "execution_count": 27,
     "metadata": {},
     "output_type": "execute_result"
    }
   ],
   "source": [
    "info"
   ]
  },
  {
   "cell_type": "code",
   "execution_count": 29,
   "id": "769c9d33-fc26-4959-83fa-f1dc303b82fc",
   "metadata": {},
   "outputs": [
    {
     "data": {
      "text/plain": [
       "{}"
      ]
     },
     "execution_count": 29,
     "metadata": {},
     "output_type": "execute_result"
    }
   ],
   "source": [
    "# We can Creates NULL entry\n",
    "null_dict = {}\n",
    "null_dict"
   ]
  },
  {
   "cell_type": "markdown",
   "id": "7346c747-8f63-46ac-8f01-82fb60bab4b6",
   "metadata": {},
   "source": [
    "# NESTED Dictionaries"
   ]
  },
  {
   "cell_type": "code",
   "execution_count": 31,
   "id": "0c411e78-376f-4ca9-92eb-b0c610a7e4aa",
   "metadata": {},
   "outputs": [],
   "source": [
    "student = {\"name\": \"Asad\" , \"subject\":{\"phy\":95,\"math\":80, \"chem\":90,\"Bio\":95}}"
   ]
  },
  {
   "cell_type": "code",
   "execution_count": 32,
   "id": "1dd2bd9d-fc7a-4c37-9c37-ae1af1f3accd",
   "metadata": {},
   "outputs": [
    {
     "data": {
      "text/plain": [
       "{'name': 'Asad', 'subject': {'phy': 95, 'math': 80, 'chem': 90, 'Bio': 95}}"
      ]
     },
     "execution_count": 32,
     "metadata": {},
     "output_type": "execute_result"
    }
   ],
   "source": [
    "student"
   ]
  },
  {
   "cell_type": "code",
   "execution_count": 59,
   "id": "7ba4367e-40a4-4d24-8ce5-4499333fb847",
   "metadata": {},
   "outputs": [
    {
     "name": "stdout",
     "output_type": "stream",
     "text": [
      "{'student1': {'name': 'Asad', 'Age': 15}, 'student2': {'name': 'Saad', 'Age': 19}, 'student3': {'name': 'Ali', 'Age': 17}}\n"
     ]
    }
   ],
   "source": [
    "student1 = { \"name\": \"Asad\" ,\"Age\": 15} \n",
    "student2 = { \"name\": \"Saad\" ,\"Age\": 19} \n",
    "student3 = { \"name\": \"Ali\" ,\"Age\": 17} \n",
    "Student_data = { \"student1\":student1,\n",
    "                \"student2\":student2,\n",
    "                \"student3\": student3}\n",
    "print(Student_data)"
   ]
  },
  {
   "cell_type": "code",
   "execution_count": 36,
   "id": "9c68f754-7062-43d6-bd1d-eacb9d2f3200",
   "metadata": {},
   "outputs": [
    {
     "name": "stdout",
     "output_type": "stream",
     "text": [
      "90\n"
     ]
    }
   ],
   "source": [
    "# Accessing the vales from nested dictionary\n",
    "print(student[\"subject\"][\"chem\"])"
   ]
  },
  {
   "cell_type": "code",
   "execution_count": 38,
   "id": "4968bf11-10e1-4caf-b830-473da70cb4a5",
   "metadata": {},
   "outputs": [
    {
     "data": {
      "text/plain": [
       "dict_items([('name', 'Asad'), ('subject', {'phy': 95, 'math': 80, 'chem': 90, 'Bio': 95})])"
      ]
     },
     "execution_count": 38,
     "metadata": {},
     "output_type": "execute_result"
    }
   ],
   "source": [
    "student.items()"
   ]
  },
  {
   "cell_type": "code",
   "execution_count": 39,
   "id": "0e50f086-888e-421f-92d0-43ff3953fed0",
   "metadata": {},
   "outputs": [
    {
     "data": {
      "text/plain": [
       "dict_keys(['name', 'subject'])"
      ]
     },
     "execution_count": 39,
     "metadata": {},
     "output_type": "execute_result"
    }
   ],
   "source": [
    "student.keys()\n",
    "# It does not show nested keys it only return outer keys"
   ]
  },
  {
   "cell_type": "code",
   "execution_count": 40,
   "id": "c5f233b3-53c8-44c3-8697-6b8c6a8786f0",
   "metadata": {},
   "outputs": [
    {
     "name": "stdout",
     "output_type": "stream",
     "text": [
      "name Asad\n",
      "subject {'phy': 95, 'math': 80, 'chem': 90, 'Bio': 95}\n"
     ]
    }
   ],
   "source": [
    "for x, y in student.items():\n",
    "  print(x, y)"
   ]
  },
  {
   "cell_type": "code",
   "execution_count": 55,
   "id": "4a60b473-8c36-4279-9b66-1bfae620b8a6",
   "metadata": {},
   "outputs": [
    {
     "name": "stdout",
     "output_type": "stream",
     "text": [
      "name\n",
      "subject\n"
     ]
    }
   ],
   "source": [
    "for y in student.keys():\n",
    "    print(y)"
   ]
  },
  {
   "cell_type": "code",
   "execution_count": 56,
   "id": "a3891e22-f913-4c4e-945f-426f3e679e29",
   "metadata": {},
   "outputs": [
    {
     "name": "stdout",
     "output_type": "stream",
     "text": [
      "{'name': 'Asad', 'subject': {'phy': 95, 'math': 80, 'chem': 90, 'Bio': 95}}\n",
      "{'name': 'Asad', 'subject': {'phy': 95, 'math': 80, 'chem': 90, 'Bio': 95}}\n"
     ]
    }
   ],
   "source": [
    "for y in student:\n",
    "    print(student)"
   ]
  },
  {
   "cell_type": "code",
   "execution_count": 57,
   "id": "ca46b7dd-39fa-4b4a-ae6a-0200a77d6d25",
   "metadata": {},
   "outputs": [
    {
     "name": "stdout",
     "output_type": "stream",
     "text": [
      "{'phy': 95, 'math': 80, 'chem': 90, 'Bio': 95}\n",
      "{'phy': 95, 'math': 80, 'chem': 90, 'Bio': 95}\n"
     ]
    }
   ],
   "source": [
    "for y in student:\n",
    "    print(student[x])"
   ]
  },
  {
   "cell_type": "markdown",
   "id": "ca6b39f7-29e5-41a8-ab35-b7dc3f9bc098",
   "metadata": {},
   "source": [
    "# LOOPS\n",
    "- <b>FOR loops<B>"
   ]
  },
  {
   "cell_type": "code",
   "execution_count": 60,
   "id": "00e0bbb3-f1ac-44ae-8a93-2d8f9dce6e0a",
   "metadata": {},
   "outputs": [
    {
     "name": "stdout",
     "output_type": "stream",
     "text": [
      "apple\n",
      "banana\n",
      "cherry\n"
     ]
    }
   ],
   "source": [
    "fruits = [\"apple\", \"banana\", \"cherry\"]\n",
    "for x in fruits:\n",
    "  print(x)"
   ]
  },
  {
   "cell_type": "code",
   "execution_count": 61,
   "id": "d900fda2-cdca-42f8-9f79-08d9b38da353",
   "metadata": {},
   "outputs": [
    {
     "name": "stdout",
     "output_type": "stream",
     "text": [
      "b\n",
      "a\n",
      "n\n",
      "a\n",
      "n\n",
      "a\n"
     ]
    }
   ],
   "source": [
    "for x in \"banana\":\n",
    "  print(x)"
   ]
  },
  {
   "cell_type": "code",
   "execution_count": 62,
   "id": "02b1fc1d-17be-447f-b9e3-742418157f74",
   "metadata": {},
   "outputs": [
    {
     "name": "stdout",
     "output_type": "stream",
     "text": [
      "apple\n",
      "banana\n"
     ]
    }
   ],
   "source": [
    "fruits = [\"apple\", \"banana\", \"cherry\"]\n",
    "for x in fruits:\n",
    "  print(x)\n",
    "  if x == \"banana\":\n",
    "    break"
   ]
  },
  {
   "cell_type": "code",
   "execution_count": 63,
   "id": "33ca1bc2-aa36-4c31-9e8f-61784f71c104",
   "metadata": {},
   "outputs": [
    {
     "name": "stdout",
     "output_type": "stream",
     "text": [
      "apple\n"
     ]
    }
   ],
   "source": [
    "fruits = [\"apple\", \"banana\", \"cherry\"]\n",
    "for x in fruits:\n",
    "  if x == \"banana\":\n",
    "    break\n",
    "  print(x)"
   ]
  },
  {
   "cell_type": "code",
   "execution_count": 64,
   "id": "af70cc28-98d9-4570-8957-c7deb50be5d2",
   "metadata": {},
   "outputs": [
    {
     "name": "stdout",
     "output_type": "stream",
     "text": [
      "apple\n",
      "cherry\n"
     ]
    }
   ],
   "source": [
    "fruits = [\"apple\", \"banana\", \"cherry\"]\n",
    "for x in fruits:\n",
    "  if x == \"banana\":\n",
    "    continue\n",
    "  print(x)\n"
   ]
  },
  {
   "cell_type": "code",
   "execution_count": 65,
   "id": "5556b9e0-bdb1-4267-8dd2-ca83bb105452",
   "metadata": {},
   "outputs": [
    {
     "name": "stdout",
     "output_type": "stream",
     "text": [
      "0\n",
      "1\n",
      "2\n",
      "3\n",
      "4\n",
      "5\n"
     ]
    }
   ],
   "source": [
    "for x in range(6):\n",
    "  print(x)"
   ]
  },
  {
   "cell_type": "code",
   "execution_count": 66,
   "id": "5fa7a570-77cd-413f-84cb-defcfd6ea101",
   "metadata": {},
   "outputs": [
    {
     "name": "stdout",
     "output_type": "stream",
     "text": [
      "2\n",
      "3\n",
      "4\n",
      "5\n"
     ]
    }
   ],
   "source": [
    "for x in range(2, 6):\n",
    "  print(x)"
   ]
  },
  {
   "cell_type": "code",
   "execution_count": 67,
   "id": "2fb91f7a-37de-498c-bc44-7ce62a7ded92",
   "metadata": {},
   "outputs": [
    {
     "name": "stdout",
     "output_type": "stream",
     "text": [
      "2\n",
      "5\n",
      "8\n",
      "11\n",
      "14\n",
      "17\n",
      "20\n",
      "23\n",
      "26\n",
      "29\n"
     ]
    }
   ],
   "source": [
    "for x in range(2, 30, 3):\n",
    "  print(x)"
   ]
  },
  {
   "cell_type": "code",
   "execution_count": 68,
   "id": "90f4b149-63e0-4558-9b47-12f179370f30",
   "metadata": {},
   "outputs": [
    {
     "name": "stdout",
     "output_type": "stream",
     "text": [
      "0\n",
      "1\n",
      "2\n",
      "3\n",
      "4\n",
      "5\n",
      "Finally finished!\n"
     ]
    }
   ],
   "source": [
    "for x in range(6):\n",
    "  print(x)\n",
    "else:\n",
    "  print(\"Finally finished!\")"
   ]
  },
  {
   "cell_type": "code",
   "execution_count": 69,
   "id": "e76ce3fe-75dc-4576-a2bf-6322e30407e9",
   "metadata": {},
   "outputs": [
    {
     "name": "stdout",
     "output_type": "stream",
     "text": [
      "0\n",
      "1\n",
      "2\n"
     ]
    }
   ],
   "source": [
    "for x in range(6):\n",
    "  if x == 3: break\n",
    "  print(x)\n",
    "else:\n",
    "  print(\"Finally finished!\")"
   ]
  },
  {
   "cell_type": "code",
   "execution_count": 70,
   "id": "9549bdc0-1146-4190-9f14-8385c5bc0747",
   "metadata": {},
   "outputs": [
    {
     "name": "stdout",
     "output_type": "stream",
     "text": [
      "red apple\n",
      "red banana\n",
      "red cherry\n",
      "big apple\n",
      "big banana\n",
      "big cherry\n",
      "tasty apple\n",
      "tasty banana\n",
      "tasty cherry\n"
     ]
    }
   ],
   "source": [
    "adj = [\"red\", \"big\", \"tasty\"]\n",
    "fruits = [\"apple\", \"banana\", \"cherry\"]\n",
    "\n",
    "for x in adj:\n",
    "  for y in fruits:\n",
    "    print(x, y)"
   ]
  },
  {
   "cell_type": "code",
   "execution_count": 72,
   "id": "43ea8739-a6d3-4b2d-b1a9-453f9cab9310",
   "metadata": {},
   "outputs": [],
   "source": [
    "# to run empty loop\n",
    "for x in [0, 1, 2]:\n",
    "  pass"
   ]
  },
  {
   "cell_type": "code",
   "execution_count": null,
   "id": "cdbea450-8111-49c5-b0b4-6822420eb9ad",
   "metadata": {},
   "outputs": [],
   "source": []
  }
 ],
 "metadata": {
  "kernelspec": {
   "display_name": "Python 3 (ipykernel)",
   "language": "python",
   "name": "python3"
  },
  "language_info": {
   "codemirror_mode": {
    "name": "ipython",
    "version": 3
   },
   "file_extension": ".py",
   "mimetype": "text/x-python",
   "name": "python",
   "nbconvert_exporter": "python",
   "pygments_lexer": "ipython3",
   "version": "3.11.7"
  }
 },
 "nbformat": 4,
 "nbformat_minor": 5
}
