{
 "cells": [
  {
   "cell_type": "markdown",
   "id": "4c176f6a-18ef-4462-ab27-4425a20b7ef8",
   "metadata": {},
   "source": [
    "# Class 3"
   ]
  },
  {
   "cell_type": "markdown",
   "id": "5fe63255-09c2-47cf-8e5c-ee742e7b40cb",
   "metadata": {},
   "source": [
    "## Concatenation"
   ]
  },
  {
   "cell_type": "code",
   "execution_count": 1,
   "id": "289d3415-a2bd-475e-ae6d-9b275ae8912d",
   "metadata": {},
   "outputs": [],
   "source": [
    "f_name = \"Saif\" #first name\n",
    "l_name =\"khan\" #last name\n",
    "age = 24\n",
    "weight = 56.56\n",
    "is_trainer = True\n"
   ]
  },
  {
   "cell_type": "code",
   "execution_count": 2,
   "id": "ae64c1a7-2049-46f8-b81a-2fbeb257b07f",
   "metadata": {},
   "outputs": [
    {
     "data": {
      "text/plain": [
       "'Trainer name of pythonSaif khan'"
      ]
     },
     "execution_count": 2,
     "metadata": {},
     "output_type": "execute_result"
    }
   ],
   "source": [
    "#method 1 using + operator\n",
    "\"Trainer name of python\"  +  f_name +\" \" + l_name"
   ]
  },
  {
   "cell_type": "code",
   "execution_count": 3,
   "id": "750516dc-9667-4587-98b8-f1b6655a0ec1",
   "metadata": {},
   "outputs": [
    {
     "data": {
      "text/plain": [
       "'Trainer of python is Saif khan'"
      ]
     },
     "execution_count": 3,
     "metadata": {},
     "output_type": "execute_result"
    }
   ],
   "source": [
    "#method 2 using f (formating)\n",
    "f\"Trainer of python is {f_name} {l_name}\""
   ]
  },
  {
   "cell_type": "code",
   "execution_count": 4,
   "id": "cd657d10-41a5-44ad-9b26-c0742e2ffb71",
   "metadata": {},
   "outputs": [
    {
     "name": "stdout",
     "output_type": "stream",
     "text": [
      "Trainer name of python Saif khan\n"
     ]
    }
   ],
   "source": [
    "#method 3\n",
    "print(\"Trainer name of python\" ,  f_name , l_name)"
   ]
  },
  {
   "cell_type": "code",
   "execution_count": 5,
   "id": "07aabc13-47c2-4172-a5e3-8f7b9c81633e",
   "metadata": {},
   "outputs": [
    {
     "data": {
      "text/plain": [
       "'Trainer of python is Saif khan'"
      ]
     },
     "execution_count": 5,
     "metadata": {},
     "output_type": "execute_result"
    }
   ],
   "source": [
    "# METHOD 3 by .format() takes veriables to be concate starts at index 0\n",
    "\"Trainer of python is {0} {1}\".format(f_name, l_name)"
   ]
  },
  {
   "cell_type": "markdown",
   "id": "3cd6990f-5f5a-4248-911b-e54cefb7b1a8",
   "metadata": {},
   "source": [
    "## Conditional Statements"
   ]
  },
  {
   "cell_type": "raw",
   "id": "48595225-cfac-4dca-b8e9-b79a10acb5b9",
   "metadata": {},
   "source": [
    "if <condition>:\n",
    "    <if body start>\n",
    "else:\n",
    "    <else body>"
   ]
  },
  {
   "cell_type": "code",
   "execution_count": 6,
   "id": "46bd034c-25a5-4549-8bb6-c3468751e72e",
   "metadata": {},
   "outputs": [
    {
     "name": "stdout",
     "output_type": "stream",
     "text": [
      "Pakistan's will celebrate\n"
     ]
    }
   ],
   "source": [
    "result=\"win\" #Win/loss/Tie\n",
    "if result == \"win\":\n",
    "    print(\"Pakistan's will celebrate\")\n",
    "else:\n",
    "    print(\"Pakistani's will be upset\")"
   ]
  },
  {
   "cell_type": "code",
   "execution_count": 7,
   "id": "96c41d4b-8ead-45c8-8a75-bc0b2f004200",
   "metadata": {},
   "outputs": [
    {
     "data": {
      "text/plain": [
       "True"
      ]
     },
     "execution_count": 7,
     "metadata": {},
     "output_type": "execute_result"
    }
   ],
   "source": [
    "result == \"win\""
   ]
  },
  {
   "cell_type": "code",
   "execution_count": 8,
   "id": "f4ebe462-1cce-49e6-8c95-d257c5702110",
   "metadata": {},
   "outputs": [
    {
     "name": "stdout",
     "output_type": "stream",
     "text": [
      "Pakistani's will be upset\n"
     ]
    }
   ],
   "source": [
    "result=\"loss\" #Win/loss/Tie\n",
    "if result == \"win\":\n",
    "    print(\"Pakistan's will celebrate\")\n",
    "else:\n",
    "    print(\"Pakistani's will be upset\")"
   ]
  },
  {
   "cell_type": "markdown",
   "id": "cdb6940b-c887-4cf7-8b75-6bb91daeeb8d",
   "metadata": {},
   "source": [
    "## if_elif_else"
   ]
  },
  {
   "cell_type": "code",
   "execution_count": 9,
   "id": "6662e71e-e065-43a3-bbb4-f670c67c349b",
   "metadata": {},
   "outputs": [
    {
     "name": "stdout",
     "output_type": "stream",
     "text": [
      "both team get one point\n"
     ]
    }
   ],
   "source": [
    "result=\"tie\" #Win/loss/Tie\n",
    "if result == \"win\":\n",
    "    print(\"Pakistan's will celebrate\")\n",
    "elif result == \"tie\":\n",
    "    print(\"both team get one point\")\n",
    "else:\n",
    "    print(\"Pakistani's will be upset\")"
   ]
  },
  {
   "cell_type": "code",
   "execution_count": 10,
   "id": "6efdbc04-3017-465e-8673-499b89b54fbf",
   "metadata": {},
   "outputs": [
    {
     "name": "stdin",
     "output_type": "stream",
     "text": [
      "put your vehcle name mehran\n"
     ]
    },
    {
     "name": "stdout",
     "output_type": "stream",
     "text": [
      "mehran is fuel efficient\n"
     ]
    }
   ],
   "source": [
    "vehcle=input(\"put your vehcle name\")\n",
    "if vehcle ==\"mehran\":\n",
    "    print(\"mehran is fuel efficient\")\n",
    "elif vehcle == \"prius\":\n",
    "    print(\"Prius is Hybrid Car\")\n",
    "elif vehcle ==\"hiace\":\n",
    "    print(\"hiace is a transporter vehcle\")\n",
    "else:\n",
    "    print(\"put your vehcle name\")"
   ]
  },
  {
   "cell_type": "code",
   "execution_count": 11,
   "id": "26064b5b-9b6d-48d7-9a5a-953f32edb62f",
   "metadata": {},
   "outputs": [
    {
     "name": "stdout",
     "output_type": "stream",
     "text": [
      "yes, its cat  {'ok'} {'animal'}\n"
     ]
    }
   ],
   "source": [
    "species= \"cat\"\n",
    "if species == \"cat\":\n",
    "    status =\"ok\"\n",
    "    kingdon ='animal'\n",
    "    print(\"yes, its cat \", {status},{kingdon})"
   ]
  },
  {
   "cell_type": "code",
   "execution_count": 12,
   "id": "071b16b4-577f-4be6-9564-0d397996fc27",
   "metadata": {},
   "outputs": [
    {
     "name": "stdout",
     "output_type": "stream",
     "text": [
      "your grade is A+\n"
     ]
    }
   ],
   "source": [
    "marks = 82\n",
    "if marks >= 80:\n",
    "    print(\"your grade is A+\")\n",
    "elif marks  >=70:\n",
    "    print(\"your grade are A\")\n",
    "elif marks >=60:\n",
    "    print(\"your grade are B\")\n",
    "elif marks >=50:\n",
    "    print(\"your grade are C\")\n",
    "else:\n",
    "    print(\"your grade are F\")"
   ]
  },
  {
   "cell_type": "markdown",
   "id": "ff00e781-696b-485b-9a9f-5abbe587edd9",
   "metadata": {},
   "source": [
    "## input\n",
    "- input always return string output\n",
    "  "
   ]
  },
  {
   "cell_type": "code",
   "execution_count": 13,
   "id": "f62817ce-2eb0-4d9d-92fc-0a50dddbfc5d",
   "metadata": {},
   "outputs": [
    {
     "name": "stdin",
     "output_type": "stream",
     "text": [
      "Enter your marks 90\n"
     ]
    },
    {
     "data": {
      "text/plain": [
       "'90'"
      ]
     },
     "execution_count": 13,
     "metadata": {},
     "output_type": "execute_result"
    }
   ],
   "source": [
    "input(\"Enter your marks\")"
   ]
  },
  {
   "cell_type": "code",
   "execution_count": null,
   "id": "0167fe77-d9b3-48ac-bfff-5abad45797d3",
   "metadata": {},
   "outputs": [],
   "source": []
  },
  {
   "cell_type": "code",
   "execution_count": 14,
   "id": "f571f57d-8e3c-4b47-8fab-4f4fa9bcab10",
   "metadata": {},
   "outputs": [
    {
     "name": "stdin",
     "output_type": "stream",
     "text": [
      "Enter your marks 66\n"
     ]
    },
    {
     "name": "stdout",
     "output_type": "stream",
     "text": [
      "your grade are B\n"
     ]
    }
   ],
   "source": [
    "marks =int(input(\"Enter your marks\"))\n",
    "if marks >= 80:\n",
    "    print(\"your grade is A+\")\n",
    "elif marks  >=70:\n",
    "    print(\"your grade are A\")\n",
    "elif marks >=60:\n",
    "    print(\"your grade are B\")\n",
    "elif marks >=50:\n",
    "    print(\"your grade are C\")\n",
    "else:\n",
    "    print(\"your grade are F\")"
   ]
  },
  {
   "cell_type": "markdown",
   "id": "2a6867b5-0be9-49f1-85ac-360f9b69adc5",
   "metadata": {},
   "source": [
    "## Comparision Operators\n",
    "- == -----equal to\n",
    "- != -----not equal to\n",
    "- > -----greater than equal to----   >=\n",
    "- > ------greater than         ----   >\n",
    "- > -----less than             ----   < \n"
   ]
  },
  {
   "cell_type": "code",
   "execution_count": 15,
   "id": "36d97093-f8e3-42c6-8fcc-3ae00d46f870",
   "metadata": {},
   "outputs": [
    {
     "data": {
      "text/plain": [
       "False"
      ]
     },
     "execution_count": 15,
     "metadata": {},
     "output_type": "execute_result"
    }
   ],
   "source": [
    "90 ==80 #return false"
   ]
  },
  {
   "cell_type": "code",
   "execution_count": 16,
   "id": "91b6976a-8b63-4e0d-a6a4-de6d2f0fec0b",
   "metadata": {},
   "outputs": [
    {
     "data": {
      "text/plain": [
       "True"
      ]
     },
     "execution_count": 16,
     "metadata": {},
     "output_type": "execute_result"
    }
   ],
   "source": [
    "90!=80 #not_equal to "
   ]
  },
  {
   "cell_type": "code",
   "execution_count": 17,
   "id": "1d2d558f-21df-421b-96ae-b286f1144b16",
   "metadata": {},
   "outputs": [
    {
     "data": {
      "text/plain": [
       "True"
      ]
     },
     "execution_count": 17,
     "metadata": {},
     "output_type": "execute_result"
    }
   ],
   "source": [
    "95>=80 #greater than equal to\n"
   ]
  },
  {
   "cell_type": "code",
   "execution_count": 18,
   "id": "46f0252b-5336-49a6-9c8a-7cbfc89bcf0b",
   "metadata": {},
   "outputs": [
    {
     "data": {
      "text/plain": [
       "True"
      ]
     },
     "execution_count": 18,
     "metadata": {},
     "output_type": "execute_result"
    }
   ],
   "source": [
    "95 > 80 #greater than"
   ]
  },
  {
   "cell_type": "code",
   "execution_count": 19,
   "id": "db7d3a76-3100-4cd9-8261-d53750879721",
   "metadata": {},
   "outputs": [
    {
     "data": {
      "text/plain": [
       "False"
      ]
     },
     "execution_count": 19,
     "metadata": {},
     "output_type": "execute_result"
    }
   ],
   "source": [
    "95 < 80 #less than"
   ]
  },
  {
   "cell_type": "code",
   "execution_count": 20,
   "id": "96e765fe-12f4-48f6-8fb3-d0d0967b3c4f",
   "metadata": {},
   "outputs": [
    {
     "name": "stdout",
     "output_type": "stream",
     "text": [
      "better luck next time\n"
     ]
    }
   ],
   "source": [
    "number = 90\n",
    "if result != 80:\n",
    "    print(\"better luck next time\")"
   ]
  },
  {
   "cell_type": "code",
   "execution_count": 21,
   "id": "0777208c-2230-470c-b5ff-ace6a5fac1ea",
   "metadata": {},
   "outputs": [],
   "source": [
    "all_availiable = True\n",
    "is_fresh = True\n",
    "price = 'average' #average, Low, High"
   ]
  },
  {
   "cell_type": "code",
   "execution_count": 22,
   "id": "346cfc87-2113-4862-9857-bdcc42d019b5",
   "metadata": {},
   "outputs": [
    {
     "name": "stdout",
     "output_type": "stream",
     "text": [
      "15\n"
     ]
    }
   ],
   "source": [
    "score =0\n",
    "if all_availiable:\n",
    "    score +=5\n",
    "if is_fresh:\n",
    "    score +=5\n",
    "if price == \"average\":\n",
    "    score +=5\n",
    "\n",
    "print(score)"
   ]
  },
  {
   "cell_type": "markdown",
   "id": "58d0bb91-d7ba-47d6-a2ba-3d4cc8744aea",
   "metadata": {},
   "source": [
    "# AND & OR Operator"
   ]
  },
  {
   "cell_type": "raw",
   "id": "dc710205-b7e2-4694-ae35-651b4985631a",
   "metadata": {},
   "source": [
    "a b and or\n",
    "0 0  0  0\n",
    "1 0  0  1\n",
    "0 1  0  1\n",
    "1 1  0  1\n",
    "    not\n",
    "0 ---> 1\n",
    "1 ---> 0"
   ]
  },
  {
   "cell_type": "code",
   "execution_count": 31,
   "id": "6537a769-d727-407a-9564-8ae9e9373e2d",
   "metadata": {},
   "outputs": [
    {
     "name": "stdin",
     "output_type": "stream",
     "text": [
      "enter your percentage:  60\n",
      "enter your age:  20\n"
     ]
    },
    {
     "name": "stdout",
     "output_type": "stream",
     "text": [
      "not eligible\n"
     ]
    }
   ],
   "source": [
    "percentage_inter = int(input(\"enter your percentage: \"))\n",
    "age_limit =int(input(\"enter your age: \"))\n",
    "\n",
    "if (percentage_inter > 60) and (age_limit >=18):\n",
    "    print(\"elligible\")\n",
    "else:\n",
    "   print(\"not eligible\")"
   ]
  },
  {
   "cell_type": "code",
   "execution_count": null,
   "id": "6161e47a-0a80-45f3-816a-f8ba58f1460e",
   "metadata": {},
   "outputs": [],
   "source": []
  }
 ],
 "metadata": {
  "kernelspec": {
   "display_name": "Python 3 (ipykernel)",
   "language": "python",
   "name": "python3"
  },
  "language_info": {
   "codemirror_mode": {
    "name": "ipython",
    "version": 3
   },
   "file_extension": ".py",
   "mimetype": "text/x-python",
   "name": "python",
   "nbconvert_exporter": "python",
   "pygments_lexer": "ipython3",
   "version": "3.11.9"
  }
 },
 "nbformat": 4,
 "nbformat_minor": 5
}
