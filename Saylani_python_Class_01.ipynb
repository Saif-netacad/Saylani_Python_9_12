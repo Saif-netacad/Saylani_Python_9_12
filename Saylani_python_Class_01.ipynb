{
 "cells": [
  {
   "cell_type": "markdown",
   "id": "c863a39b-a6b2-4424-97be-e7fe9f61a27d",
   "metadata": {},
   "source": [
    "# Class 01"
   ]
  },
  {
   "cell_type": "code",
   "execution_count": null,
   "id": "dae0ef4f-ac45-4586-af92-b03371e8fa84",
   "metadata": {},
   "outputs": [],
   "source": []
  },
  {
   "cell_type": "markdown",
   "id": "787f7fea-f05c-4a74-838c-f0ecb4758943",
   "metadata": {},
   "source": [
    "- Introduction\n",
    "- git hub awareness\n",
    "- How to use git hub\n",
    "- anaconda Installation\n",
    "- git bash installation\n",
    "- jupyter notebook\n",
    "- anaconda envirenments\n",
    "- first code interpret \"hello world!\""
   ]
  },
  {
   "cell_type": "code",
   "execution_count": 1,
   "id": "da7e8de0-3505-42a1-bbc6-32ee1f844676",
   "metadata": {},
   "outputs": [
    {
     "name": "stdout",
     "output_type": "stream",
     "text": [
      "Hello World!\n"
     ]
    }
   ],
   "source": [
    "print(\"Hello World!\") #print is built in function in python"
   ]
  },
  {
   "cell_type": "code",
   "execution_count": null,
   "id": "c4d48c12-54ed-4ba3-8c69-2bfbf6bf385e",
   "metadata": {},
   "outputs": [],
   "source": []
  }
 ],
 "metadata": {
  "kernelspec": {
   "display_name": "Python 3 (ipykernel)",
   "language": "python",
   "name": "python3"
  },
  "language_info": {
   "codemirror_mode": {
    "name": "ipython",
    "version": 3
   },
   "file_extension": ".py",
   "mimetype": "text/x-python",
   "name": "python",
   "nbconvert_exporter": "python",
   "pygments_lexer": "ipython3",
   "version": "3.11.9"
  }
 },
 "nbformat": 4,
 "nbformat_minor": 5
}
