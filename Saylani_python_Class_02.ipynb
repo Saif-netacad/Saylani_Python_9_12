{
 "cells": [
  {
   "cell_type": "markdown",
   "id": "109718a6-b85c-4238-9cab-5b5d71aad377",
   "metadata": {
    "jp-MarkdownHeadingCollapsed": true
   },
   "source": [
    "# Saylani Sunday 9-12  Classes Work"
   ]
  },
  {
   "cell_type": "markdown",
   "id": "61f358cc-e745-4726-96e8-add5898b89d1",
   "metadata": {},
   "source": [
    "# Class 02\n",
    "\n"
   ]
  },
  {
   "cell_type": "markdown",
   "id": "c52891ea-01f5-423c-a982-62441ba5eeef",
   "metadata": {},
   "source": [
    "## Veriables\n",
    "- String\n",
    "- Integer\n",
    "- Float\n",
    "- Bolean\n"
   ]
  },
  {
   "cell_type": "code",
   "execution_count": 1,
   "id": "28708771-372b-4eea-ab26-23bdf369d47c",
   "metadata": {},
   "outputs": [
    {
     "name": "stdout",
     "output_type": "stream",
     "text": [
      "python\n"
     ]
    },
    {
     "data": {
      "text/plain": [
       "str"
      ]
     },
     "execution_count": 1,
     "metadata": {},
     "output_type": "execute_result"
    }
   ],
   "source": [
    "name = \"python\" #anything written in inverted comma will be executed as string\n",
    "print(name)\n",
    "type(name) #type is a command in python to check data types"
   ]
  },
  {
   "cell_type": "code",
   "execution_count": 2,
   "id": "213e8bf4-5903-43b3-9359-20fdf2efacd1",
   "metadata": {},
   "outputs": [
    {
     "name": "stdout",
     "output_type": "stream",
     "text": [
      "25\n"
     ]
    },
    {
     "data": {
      "text/plain": [
       "int"
      ]
     },
     "execution_count": 2,
     "metadata": {},
     "output_type": "execute_result"
    }
   ],
   "source": [
    "age = 25 #here 25 is integer it would interpreted as a integer\n",
    "print(age)\n",
    "type(age) #type is a command in python to check data types"
   ]
  },
  {
   "cell_type": "code",
   "execution_count": 3,
   "id": "389bb4f7-a949-44a7-b8b8-93db70bfa904",
   "metadata": {},
   "outputs": [
    {
     "name": "stdout",
     "output_type": "stream",
     "text": [
      "60.055\n"
     ]
    },
    {
     "data": {
      "text/plain": [
       "float"
      ]
     },
     "execution_count": 3,
     "metadata": {},
     "output_type": "execute_result"
    }
   ],
   "source": [
    "height = 60.055 #point between integers is a float\n",
    "print(height)\n",
    "type(height) #type is a command in python to check data types"
   ]
  },
  {
   "cell_type": "code",
   "execution_count": 4,
   "id": "430f6fbb-8c4d-4dd1-9300-497e472682d3",
   "metadata": {},
   "outputs": [
    {
     "name": "stdout",
     "output_type": "stream",
     "text": [
      "True\n"
     ]
    },
    {
     "data": {
      "text/plain": [
       "bool"
      ]
     },
     "execution_count": 4,
     "metadata": {},
     "output_type": "execute_result"
    }
   ],
   "source": [
    "is_present =True # bolean has only True or False\n",
    "print(is_present)\n",
    "type(is_present) #type is a command in python to check data types"
   ]
  },
  {
   "cell_type": "markdown",
   "id": "fcd2ffc3-dd07-4343-a4e6-f83a052c6c93",
   "metadata": {},
   "source": [
    "## Operators\n",
    "- Addition\n",
    "- Subtraction\n",
    "- Multiplication\n",
    "- Division\n",
    "- Power\n",
    "- Floor\n",
    "- Ceil\n"
   ]
  },
  {
   "cell_type": "code",
   "execution_count": 5,
   "id": "094c0eee-a557-4e25-a43b-c8595e7e8ae9",
   "metadata": {},
   "outputs": [
    {
     "name": "stdout",
     "output_type": "stream",
     "text": [
      "4\n"
     ]
    }
   ],
   "source": [
    "Addition = 2+2 # in which we perform Addition\n",
    "print(Addition)"
   ]
  },
  {
   "cell_type": "code",
   "execution_count": 6,
   "id": "edff6ea3-f4e9-43d0-b5a2-b38184e4fcb2",
   "metadata": {},
   "outputs": [
    {
     "name": "stdout",
     "output_type": "stream",
     "text": [
      "2\n"
     ]
    }
   ],
   "source": [
    "Subtraction = 4-2 # in which we perform Sutraction\n",
    "print(Subtraction)"
   ]
  },
  {
   "cell_type": "code",
   "execution_count": 7,
   "id": "c327d85e-87bc-4641-9f13-cef61a32e0af",
   "metadata": {},
   "outputs": [
    {
     "name": "stdout",
     "output_type": "stream",
     "text": [
      "8\n"
     ]
    }
   ],
   "source": [
    "Multiplication = 4*2 #  in which we perform multiplication\n",
    "print(Multiplication)"
   ]
  },
  {
   "cell_type": "code",
   "execution_count": 8,
   "id": "4c35253e-cfb4-4729-ae0f-9bbd6fe167fb",
   "metadata": {},
   "outputs": [
    {
     "name": "stdout",
     "output_type": "stream",
     "text": [
      "2.0\n"
     ]
    }
   ],
   "source": [
    "Division = 4/2 # in which we perform Division\n",
    "print(Division) #Division always return result in float use--- x = int(4/2)---it will return integer"
   ]
  },
  {
   "cell_type": "code",
   "execution_count": 9,
   "id": "1f2f42dd-de74-42c2-b87d-05c65d018374",
   "metadata": {},
   "outputs": [
    {
     "name": "stdout",
     "output_type": "stream",
     "text": [
      "2\n"
     ]
    }
   ],
   "source": [
    "floor = 5//2 #in this code we perform floor\n",
    "print(floor)"
   ]
  },
  {
   "cell_type": "code",
   "execution_count": 10,
   "id": "659d48a8-2120-405a-b961-39567d01879a",
   "metadata": {},
   "outputs": [
    {
     "data": {
      "text/plain": [
       "3"
      ]
     },
     "execution_count": 10,
     "metadata": {},
     "output_type": "execute_result"
    }
   ],
   "source": [
    "# For Ceil we need to import library called Math\n",
    "import math\n",
    "math.ceil(5/2)"
   ]
  },
  {
   "cell_type": "markdown",
   "id": "a33aa0ac-c7f4-436f-b6c7-f6dc25783893",
   "metadata": {},
   "source": [
    "## More Operators\n",
    "- %  -modulus\n",
    "- incriment operators\n"
   ]
  },
  {
   "cell_type": "code",
   "execution_count": 11,
   "id": "a51d81b2-5e27-4b02-b181-ef628cabfd13",
   "metadata": {},
   "outputs": [
    {
     "name": "stdout",
     "output_type": "stream",
     "text": [
      "1\n"
     ]
    }
   ],
   "source": [
    "modulus = 9%2 #modulus return remaining\n",
    "print(modulus)"
   ]
  },
  {
   "cell_type": "code",
   "execution_count": 12,
   "id": "0aa3d0c6-ce23-46c0-b209-bc9ed563446d",
   "metadata": {},
   "outputs": [],
   "source": [
    "x = 10"
   ]
  },
  {
   "cell_type": "code",
   "execution_count": 13,
   "id": "b6b0f1ee-ed55-4c79-921c-a058ed84277c",
   "metadata": {},
   "outputs": [
    {
     "name": "stdout",
     "output_type": "stream",
     "text": [
      "20\n"
     ]
    }
   ],
   "source": [
    "x += 10 #it will add 10 more in x veriables\n",
    "print(x)"
   ]
  },
  {
   "cell_type": "code",
   "execution_count": 14,
   "id": "3569aab8-4ff2-45e4-be8b-afe52d8d1b6c",
   "metadata": {},
   "outputs": [
    {
     "name": "stdout",
     "output_type": "stream",
     "text": [
      "10\n"
     ]
    }
   ],
   "source": [
    "x -= 10 #it will minus 10 \n",
    "print(x)"
   ]
  },
  {
   "cell_type": "code",
   "execution_count": 15,
   "id": "a98a96a1-337e-41e4-8bc0-cd47b9b6b90f",
   "metadata": {},
   "outputs": [
    {
     "name": "stdout",
     "output_type": "stream",
     "text": [
      "100\n"
     ]
    }
   ],
   "source": [
    "x *= 10 #it will multiply x with 10\n",
    "print(x)"
   ]
  },
  {
   "cell_type": "code",
   "execution_count": 16,
   "id": "359c2b2a-9398-4461-b4a5-8fcaca3a7b2d",
   "metadata": {},
   "outputs": [],
   "source": [
    "x /= 10 # it will devide xx by 10"
   ]
  },
  {
   "cell_type": "code",
   "execution_count": 17,
   "id": "10f3b079-e9e8-4f56-a833-9b83108e9db9",
   "metadata": {},
   "outputs": [
    {
     "data": {
      "text/plain": [
       "10.0"
      ]
     },
     "execution_count": 17,
     "metadata": {},
     "output_type": "execute_result"
    }
   ],
   "source": [
    "x"
   ]
  },
  {
   "cell_type": "markdown",
   "id": "1081a5cd-9c3e-4078-9e6f-b6349bd98c69",
   "metadata": {},
   "source": [
    "## Expression"
   ]
  },
  {
   "cell_type": "code",
   "execution_count": 18,
   "id": "9bae16fa-21de-4985-8a00-53ddc9243aac",
   "metadata": {},
   "outputs": [
    {
     "data": {
      "text/plain": [
       "8.0"
      ]
     },
     "execution_count": 18,
     "metadata": {},
     "output_type": "execute_result"
    }
   ],
   "source": [
    "2+3*4/2 \n",
    "\n",
    "# 1st division\n",
    "# 2nd multiplication\n",
    "# 3rd addition"
   ]
  },
  {
   "cell_type": "code",
   "execution_count": 19,
   "id": "b0a945d5-8d67-4e4d-ad2d-aa2684ca6f1c",
   "metadata": {},
   "outputs": [
    {
     "data": {
      "text/plain": [
       "9.0"
      ]
     },
     "execution_count": 19,
     "metadata": {},
     "output_type": "execute_result"
    }
   ],
   "source": [
    "(2+3)+(4-2)*4/2 #bracket will be solved first\n",
    "# 1st division\n",
    "# 2nd multiplication\n",
    "# 3rd addition"
   ]
  },
  {
   "cell_type": "code",
   "execution_count": 20,
   "id": "de6fd831-4b8f-4c89-8b40-0feab59b1f9d",
   "metadata": {},
   "outputs": [
    {
     "data": {
      "text/plain": [
       "18"
      ]
     },
     "execution_count": 20,
     "metadata": {},
     "output_type": "execute_result"
    }
   ],
   "source": [
    "1+(3-2)+2**4 #power will be solved first"
   ]
  },
  {
   "cell_type": "code",
   "execution_count": 21,
   "id": "2bf0a558-18c0-4af0-9028-830c88ed9a4f",
   "metadata": {},
   "outputs": [
    {
     "data": {
      "text/plain": [
       "34"
      ]
     },
     "execution_count": 21,
     "metadata": {},
     "output_type": "execute_result"
    }
   ],
   "source": [
    "((2*4)*4)+2 #inner bracket will be solved first "
   ]
  },
  {
   "cell_type": "markdown",
   "id": "0edb00d1-ca59-4de1-b3b7-b285f999590d",
   "metadata": {},
   "source": [
    "## Concatenation"
   ]
  },
  {
   "cell_type": "code",
   "execution_count": 22,
   "id": "3cbb8e7b-293f-4ab6-af92-a0f935a60e87",
   "metadata": {},
   "outputs": [
    {
     "data": {
      "text/plain": [
       "('Saif', 'Ullah')"
      ]
     },
     "execution_count": 22,
     "metadata": {},
     "output_type": "execute_result"
    }
   ],
   "source": [
    "\"Saif\",\"Ullah\" ##tis methond turn string into tuple"
   ]
  },
  {
   "cell_type": "code",
   "execution_count": 23,
   "id": "dd72922d-17a8-4964-97a2-8596854da8d3",
   "metadata": {},
   "outputs": [
    {
     "name": "stdout",
     "output_type": "stream",
     "text": [
      "Saif Ullah\n"
     ]
    }
   ],
   "source": [
    "print(\"Saif\", \"Ullah\")"
   ]
  },
  {
   "cell_type": "code",
   "execution_count": 24,
   "id": "bc37748c-46f8-445b-98a5-b6cba6aaca99",
   "metadata": {},
   "outputs": [
    {
     "data": {
      "text/plain": [
       "('python', 25, 60.055, True)"
      ]
     },
     "execution_count": 24,
     "metadata": {},
     "output_type": "execute_result"
    }
   ],
   "source": [
    "# AS we describe veriables before we use it here\n",
    "name, age, height, is_present\n",
    "#this also turn it into tupple"
   ]
  },
  {
   "cell_type": "code",
   "execution_count": 25,
   "id": "791bec1a-11db-4283-bd6d-c9ade706d2ff",
   "metadata": {},
   "outputs": [
    {
     "name": "stdout",
     "output_type": "stream",
     "text": [
      "Student name is : python\n",
      "Student age is: 25\n",
      "Is Student is : True\n"
     ]
    }
   ],
   "source": [
    "#METHOD:1 Concatenation with, (,)\n",
    "print(\"Student name is :\",name)\n",
    "print(\"Student age is:\", age)\n",
    "print(\"Is Student is :\", is_present)"
   ]
  },
  {
   "cell_type": "code",
   "execution_count": 26,
   "id": "bf97d225-05f6-4b47-9aa8-eb2bd7559721",
   "metadata": {},
   "outputs": [
    {
     "name": "stdout",
     "output_type": "stream",
     "text": [
      "Student name is :python\n",
      "Student age is:25\n",
      "Is Student is :True\n"
     ]
    }
   ],
   "source": [
    "#METHOD:1 Concatenation with,(+)\n",
    "print(\"Student name is :\"+str(name))\n",
    "print(\"Student age is:\"+ str(age))\n",
    "print(\"Is Student is :\" +str(is_present))"
   ]
  },
  {
   "cell_type": "code",
   "execution_count": 27,
   "id": "7e894efb-0722-4926-b4bd-204f6f830031",
   "metadata": {},
   "outputs": [
    {
     "name": "stdout",
     "output_type": "stream",
     "text": [
      "Student Name:python\n",
      "Student Age:25\n",
      "Student is Present: True\n"
     ]
    }
   ],
   "source": [
    "#METHOD:1 Concatenation with, (f)\n",
    "print(f\"Student Name:{name}\")\n",
    "print(f\"Student Age:{age}\")\n",
    "print(f\"Student is Present: {is_present}\")\n",
    "\n",
    "#it is most useful and most frequent used methods"
   ]
  },
  {
   "cell_type": "code",
   "execution_count": null,
   "id": "3507acf6-65f9-498a-96a4-7547c9413e2b",
   "metadata": {},
   "outputs": [],
   "source": []
  }
 ],
 "metadata": {
  "kernelspec": {
   "display_name": "Python 3 (ipykernel)",
   "language": "python",
   "name": "python3"
  },
  "language_info": {
   "codemirror_mode": {
    "name": "ipython",
    "version": 3
   },
   "file_extension": ".py",
   "mimetype": "text/x-python",
   "name": "python",
   "nbconvert_exporter": "python",
   "pygments_lexer": "ipython3",
   "version": "3.11.9"
  }
 },
 "nbformat": 4,
 "nbformat_minor": 5
}
